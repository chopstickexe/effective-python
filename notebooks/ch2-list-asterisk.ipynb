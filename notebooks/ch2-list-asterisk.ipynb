{
 "metadata": {
  "language_info": {
   "codemirror_mode": {
    "name": "ipython",
    "version": 3
   },
   "file_extension": ".py",
   "mimetype": "text/x-python",
   "name": "python",
   "nbconvert_exporter": "python",
   "pygments_lexer": "ipython3",
   "version": "3.9.0-final"
  },
  "orig_nbformat": 2,
  "kernelspec": {
   "name": "python3",
   "display_name": "Python 3"
  }
 },
 "nbformat": 4,
 "nbformat_minor": 2,
 "cells": [
  {
   "source": [
    "# 項目13 スライスではなくcatch-allアンパックを使う\n",
    "\n",
    "アスタリスク `*` を使って、「リストの残り全部」 (catch-all) を受け取ることができる．"
   ],
   "cell_type": "markdown",
   "metadata": {}
  },
  {
   "cell_type": "code",
   "execution_count": 2,
   "metadata": {},
   "outputs": [
    {
     "output_type": "execute_result",
     "data": {
      "text/plain": [
       "[20, 19, 15, 9, 8, 7, 6, 4, 1, 0]"
      ]
     },
     "metadata": {},
     "execution_count": 2
    }
   ],
   "source": [
    "car_ages = [0, 9, 4, 8, 7, 20, 19, 1, 6, 15]\n",
    "car_ages = sorted(car_ages, reverse=True)\n",
    "car_ages"
   ]
  },
  {
   "cell_type": "code",
   "execution_count": 3,
   "metadata": {},
   "outputs": [
    {
     "output_type": "execute_result",
     "data": {
      "text/plain": [
       "[15, 9, 8, 7, 6, 4, 1, 0]"
      ]
     },
     "metadata": {},
     "execution_count": 3
    }
   ],
   "source": [
    "oldest, second_oldest, *others = car_ages\n",
    "others "
   ]
  },
  {
   "cell_type": "code",
   "execution_count": 4,
   "metadata": {},
   "outputs": [
    {
     "output_type": "execute_result",
     "data": {
      "text/plain": [
       "[20, 19, 15, 9, 8, 7, 6, 4, 1]"
      ]
     },
     "metadata": {},
     "execution_count": 4
    }
   ],
   "source": [
    "*others, smallest = car_ages\n",
    "others"
   ]
  },
  {
   "cell_type": "code",
   "execution_count": null,
   "metadata": {},
   "outputs": [],
   "source": []
  }
 ]
}