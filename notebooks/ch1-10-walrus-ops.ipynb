{
 "metadata": {
  "language_info": {
   "codemirror_mode": {
    "name": "ipython",
    "version": 3
   },
   "file_extension": ".py",
   "mimetype": "text/x-python",
   "name": "python",
   "nbconvert_exporter": "python",
   "pygments_lexer": "ipython3",
   "version": "3.9.0-final"
  },
  "orig_nbformat": 2,
  "kernelspec": {
   "name": "python3",
   "display_name": "Python 3"
  }
 },
 "nbformat": 4,
 "nbformat_minor": 2,
 "cells": [
  {
   "source": [
    "# 項目10 代入式で繰り返しを防ぐ （Python 3.8以降）\n",
    "\n",
    "walrus演算子 `:=` を使えば、条件式で代入できる．"
   ],
   "cell_type": "markdown",
   "metadata": {}
  },
  {
   "cell_type": "code",
   "execution_count": 1,
   "metadata": {},
   "outputs": [
    {
     "output_type": "stream",
     "name": "stdout",
     "text": [
      "make cider\n"
     ]
    }
   ],
   "source": [
    "fresh_fruit = {\n",
    "    'apple': 10,\n",
    "    'banana': 8,\n",
    "    'lemon': 5\n",
    "}\n",
    "\n",
    "if (count := fresh_fruit.get('apple', 0)) > 4:\n",
    "    print('make cider')\n",
    "else:\n",
    "    print('out of stock')"
   ]
  },
  {
   "source": [
    "普通の `=` だと構文エラー．"
   ],
   "cell_type": "markdown",
   "metadata": {}
  },
  {
   "cell_type": "code",
   "execution_count": 2,
   "metadata": {},
   "outputs": [
    {
     "output_type": "error",
     "ename": "SyntaxError",
     "evalue": "invalid syntax (<ipython-input-2-321e3781f738>, line 1)",
     "traceback": [
      "\u001b[0;36m  File \u001b[0;32m\"<ipython-input-2-321e3781f738>\"\u001b[0;36m, line \u001b[0;32m1\u001b[0m\n\u001b[0;31m    if (count = fresh_fruit.get('apple', 0)) > 4:\u001b[0m\n\u001b[0m              ^\u001b[0m\n\u001b[0;31mSyntaxError\u001b[0m\u001b[0;31m:\u001b[0m invalid syntax\n"
     ]
    }
   ],
   "source": [
    "if (count = fresh_fruit.get('apple', 0)) > 4:\n",
    "    print('make cider')\n",
    "else:\n",
    "    print('out of stock')"
   ]
  },
  {
   "source": [
    "カッコはなくても良い．"
   ],
   "cell_type": "markdown",
   "metadata": {}
  },
  {
   "cell_type": "code",
   "execution_count": 3,
   "metadata": {},
   "outputs": [
    {
     "output_type": "stream",
     "name": "stdout",
     "text": [
      "make cider\n"
     ]
    }
   ],
   "source": [
    "if count := fresh_fruit.get('apple', 0) > 4:\n",
    "    print('make cider')\n",
    "else:\n",
    "    print('out of stock')"
   ]
  },
  {
   "cell_type": "code",
   "execution_count": null,
   "metadata": {},
   "outputs": [],
   "source": []
  }
 ]
}